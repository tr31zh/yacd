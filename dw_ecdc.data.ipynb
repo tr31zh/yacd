{
 "nbformat": 4,
 "nbformat_minor": 2,
 "metadata": {
  "language_info": {
   "name": "python",
   "codemirror_mode": {
    "name": "ipython",
    "version": 3
   },
   "version": "3.7.4-final"
  },
  "orig_nbformat": 2,
  "file_extension": ".py",
  "mimetype": "text/x-python",
  "name": "python",
  "npconvert_exporter": "python",
  "pygments_lexer": "ipython3",
  "version": 3,
  "kernelspec": {
   "name": "python37464bitenvvenv65e5276e36314bf29ff3049602b82f3c",
   "display_name": "Python 3.7.4 64-bit ('env': venv)"
  }
 },
 "cells": [
  {
   "cell_type": "markdown",
   "metadata": {},
   "source": [
    "# Data wrangling for European Centre for Disease Prevention and Control"
   ]
  },
  {
   "cell_type": "markdown",
   "metadata": {},
   "source": [
    "## Import libraries"
   ]
  },
  {
   "cell_type": "code",
   "execution_count": 18,
   "metadata": {},
   "outputs": [],
   "source": [
    "import pandas as pd\n",
    "import numpy as np"
   ]
  },
  {
   "cell_type": "markdown",
   "metadata": {},
   "source": [
    "## Load data from open data"
   ]
  },
  {
   "cell_type": "code",
   "execution_count": 46,
   "metadata": {},
   "outputs": [
    {
     "output_type": "execute_result",
     "data": {
      "text/plain": "      dateRep  day  month  year  cases  deaths countriesAndTerritories geoId  \\\n0  05/04/2020    5      4  2020     35       1             Afghanistan    AF   \n1  04/04/2020    4      4  2020      0       0             Afghanistan    AF   \n2  03/04/2020    3      4  2020     43       0             Afghanistan    AF   \n3  02/04/2020    2      4  2020     26       0             Afghanistan    AF   \n4  01/04/2020    1      4  2020     25       0             Afghanistan    AF   \n\n  countryterritoryCode  popData2018  \n0                  AFG   37172386.0  \n1                  AFG   37172386.0  \n2                  AFG   37172386.0  \n3                  AFG   37172386.0  \n4                  AFG   37172386.0  ",
      "text/html": "<div>\n<style scoped>\n    .dataframe tbody tr th:only-of-type {\n        vertical-align: middle;\n    }\n\n    .dataframe tbody tr th {\n        vertical-align: top;\n    }\n\n    .dataframe thead th {\n        text-align: right;\n    }\n</style>\n<table border=\"1\" class=\"dataframe\">\n  <thead>\n    <tr style=\"text-align: right;\">\n      <th></th>\n      <th>dateRep</th>\n      <th>day</th>\n      <th>month</th>\n      <th>year</th>\n      <th>cases</th>\n      <th>deaths</th>\n      <th>countriesAndTerritories</th>\n      <th>geoId</th>\n      <th>countryterritoryCode</th>\n      <th>popData2018</th>\n    </tr>\n  </thead>\n  <tbody>\n    <tr>\n      <th>0</th>\n      <td>05/04/2020</td>\n      <td>5</td>\n      <td>4</td>\n      <td>2020</td>\n      <td>35</td>\n      <td>1</td>\n      <td>Afghanistan</td>\n      <td>AF</td>\n      <td>AFG</td>\n      <td>37172386.0</td>\n    </tr>\n    <tr>\n      <th>1</th>\n      <td>04/04/2020</td>\n      <td>4</td>\n      <td>4</td>\n      <td>2020</td>\n      <td>0</td>\n      <td>0</td>\n      <td>Afghanistan</td>\n      <td>AF</td>\n      <td>AFG</td>\n      <td>37172386.0</td>\n    </tr>\n    <tr>\n      <th>2</th>\n      <td>03/04/2020</td>\n      <td>3</td>\n      <td>4</td>\n      <td>2020</td>\n      <td>43</td>\n      <td>0</td>\n      <td>Afghanistan</td>\n      <td>AF</td>\n      <td>AFG</td>\n      <td>37172386.0</td>\n    </tr>\n    <tr>\n      <th>3</th>\n      <td>02/04/2020</td>\n      <td>2</td>\n      <td>4</td>\n      <td>2020</td>\n      <td>26</td>\n      <td>0</td>\n      <td>Afghanistan</td>\n      <td>AF</td>\n      <td>AFG</td>\n      <td>37172386.0</td>\n    </tr>\n    <tr>\n      <th>4</th>\n      <td>01/04/2020</td>\n      <td>1</td>\n      <td>4</td>\n      <td>2020</td>\n      <td>25</td>\n      <td>0</td>\n      <td>Afghanistan</td>\n      <td>AF</td>\n      <td>AFG</td>\n      <td>37172386.0</td>\n    </tr>\n  </tbody>\n</table>\n</div>"
     },
     "metadata": {},
     "execution_count": 46
    }
   ],
   "source": [
    "url = \"https://opendata.ecdc.europa.eu/covid19/casedistribution/csv\"\n",
    "data = pd.read_csv(url)\n",
    "data.head()"
   ]
  },
  {
   "cell_type": "code",
   "execution_count": 47,
   "metadata": {},
   "outputs": [
    {
     "output_type": "execute_result",
     "data": {
      "text/plain": "        popData2018  confirmed_dayli   dead_dayli\ncount  8.873000e+03      8905.000000  8905.000000\nmean   6.549505e+07       131.909264     7.231892\nstd    2.037894e+08      1041.737090    62.844102\nmin    1.000000e+03        -9.000000     0.000000\n25%    3.731000e+06         0.000000     0.000000\n50%    1.062570e+07         0.000000     0.000000\n75%    4.449450e+07        10.000000     0.000000\nmax    1.392730e+09     34272.000000  2004.000000",
      "text/html": "<div>\n<style scoped>\n    .dataframe tbody tr th:only-of-type {\n        vertical-align: middle;\n    }\n\n    .dataframe tbody tr th {\n        vertical-align: top;\n    }\n\n    .dataframe thead th {\n        text-align: right;\n    }\n</style>\n<table border=\"1\" class=\"dataframe\">\n  <thead>\n    <tr style=\"text-align: right;\">\n      <th></th>\n      <th>popData2018</th>\n      <th>confirmed_dayli</th>\n      <th>dead_dayli</th>\n    </tr>\n  </thead>\n  <tbody>\n    <tr>\n      <th>count</th>\n      <td>8.873000e+03</td>\n      <td>8905.000000</td>\n      <td>8905.000000</td>\n    </tr>\n    <tr>\n      <th>mean</th>\n      <td>6.549505e+07</td>\n      <td>131.909264</td>\n      <td>7.231892</td>\n    </tr>\n    <tr>\n      <th>std</th>\n      <td>2.037894e+08</td>\n      <td>1041.737090</td>\n      <td>62.844102</td>\n    </tr>\n    <tr>\n      <th>min</th>\n      <td>1.000000e+03</td>\n      <td>-9.000000</td>\n      <td>0.000000</td>\n    </tr>\n    <tr>\n      <th>25%</th>\n      <td>3.731000e+06</td>\n      <td>0.000000</td>\n      <td>0.000000</td>\n    </tr>\n    <tr>\n      <th>50%</th>\n      <td>1.062570e+07</td>\n      <td>0.000000</td>\n      <td>0.000000</td>\n    </tr>\n    <tr>\n      <th>75%</th>\n      <td>4.449450e+07</td>\n      <td>10.000000</td>\n      <td>0.000000</td>\n    </tr>\n    <tr>\n      <th>max</th>\n      <td>1.392730e+09</td>\n      <td>34272.000000</td>\n      <td>2004.000000</td>\n    </tr>\n  </tbody>\n</table>\n</div>"
     },
     "metadata": {},
     "execution_count": 47
    }
   ],
   "source": [
    "df_rn =(\n",
    "    data\n",
    "    .assign(date=pd.to_datetime(data.dateRep))\n",
    "    .assign(country=data.countriesAndTerritories)\n",
    "    .assign(confirmed_dayli=data.cases)\n",
    "    .assign(dead_dayli=data.deaths)\n",
    "    .drop(columns=[\n",
    "        \"countriesAndTerritories\", \n",
    "        \"cases\", \n",
    "        \"deaths\", \n",
    "        \"dateRep\", \n",
    "        \"day\", \n",
    "        \"month\", \n",
    "        \"year\",\n",
    "        'geoId', \n",
    "        'countryterritoryCode']\n",
    "    )\n",
    "    .sort_values([\"country\", \"date\"])\n",
    ")\n",
    "df_rn.describe()"
   ]
  },
  {
   "cell_type": "code",
   "execution_count": 48,
   "metadata": {},
   "outputs": [
    {
     "output_type": "execute_result",
     "data": {
      "text/plain": "      popData2018       date      country  confirmed_dayli  dead_dayli\n86     37172386.0 2019-12-31  Afghanistan                0           0\n85     37172386.0 2020-01-01  Afghanistan                0           0\n54     37172386.0 2020-01-02  Afghanistan                0           0\n25     37172386.0 2020-01-03  Afghanistan                0           0\n4      37172386.0 2020-01-04  Afghanistan               25           0\n...           ...        ...          ...              ...         ...\n8896   14439018.0 2020-03-29     Zimbabwe                2           0\n8895   14439018.0 2020-03-30     Zimbabwe                0           0\n8894   14439018.0 2020-03-31     Zimbabwe                0           0\n8890   14439018.0 2020-04-04     Zimbabwe                1           0\n8889   14439018.0 2020-05-04     Zimbabwe                0           0\n\n[8905 rows x 5 columns]",
      "text/html": "<div>\n<style scoped>\n    .dataframe tbody tr th:only-of-type {\n        vertical-align: middle;\n    }\n\n    .dataframe tbody tr th {\n        vertical-align: top;\n    }\n\n    .dataframe thead th {\n        text-align: right;\n    }\n</style>\n<table border=\"1\" class=\"dataframe\">\n  <thead>\n    <tr style=\"text-align: right;\">\n      <th></th>\n      <th>popData2018</th>\n      <th>date</th>\n      <th>country</th>\n      <th>confirmed_dayli</th>\n      <th>dead_dayli</th>\n    </tr>\n  </thead>\n  <tbody>\n    <tr>\n      <th>86</th>\n      <td>37172386.0</td>\n      <td>2019-12-31</td>\n      <td>Afghanistan</td>\n      <td>0</td>\n      <td>0</td>\n    </tr>\n    <tr>\n      <th>85</th>\n      <td>37172386.0</td>\n      <td>2020-01-01</td>\n      <td>Afghanistan</td>\n      <td>0</td>\n      <td>0</td>\n    </tr>\n    <tr>\n      <th>54</th>\n      <td>37172386.0</td>\n      <td>2020-01-02</td>\n      <td>Afghanistan</td>\n      <td>0</td>\n      <td>0</td>\n    </tr>\n    <tr>\n      <th>25</th>\n      <td>37172386.0</td>\n      <td>2020-01-03</td>\n      <td>Afghanistan</td>\n      <td>0</td>\n      <td>0</td>\n    </tr>\n    <tr>\n      <th>4</th>\n      <td>37172386.0</td>\n      <td>2020-01-04</td>\n      <td>Afghanistan</td>\n      <td>25</td>\n      <td>0</td>\n    </tr>\n    <tr>\n      <th>...</th>\n      <td>...</td>\n      <td>...</td>\n      <td>...</td>\n      <td>...</td>\n      <td>...</td>\n    </tr>\n    <tr>\n      <th>8896</th>\n      <td>14439018.0</td>\n      <td>2020-03-29</td>\n      <td>Zimbabwe</td>\n      <td>2</td>\n      <td>0</td>\n    </tr>\n    <tr>\n      <th>8895</th>\n      <td>14439018.0</td>\n      <td>2020-03-30</td>\n      <td>Zimbabwe</td>\n      <td>0</td>\n      <td>0</td>\n    </tr>\n    <tr>\n      <th>8894</th>\n      <td>14439018.0</td>\n      <td>2020-03-31</td>\n      <td>Zimbabwe</td>\n      <td>0</td>\n      <td>0</td>\n    </tr>\n    <tr>\n      <th>8890</th>\n      <td>14439018.0</td>\n      <td>2020-04-04</td>\n      <td>Zimbabwe</td>\n      <td>1</td>\n      <td>0</td>\n    </tr>\n    <tr>\n      <th>8889</th>\n      <td>14439018.0</td>\n      <td>2020-05-04</td>\n      <td>Zimbabwe</td>\n      <td>0</td>\n      <td>0</td>\n    </tr>\n  </tbody>\n</table>\n<p>8905 rows × 5 columns</p>\n</div>"
     },
     "metadata": {},
     "execution_count": 48
    }
   ],
   "source": [
    "df_rn"
   ]
  },
  {
   "cell_type": "code",
   "execution_count": 54,
   "metadata": {},
   "outputs": [
    {
     "output_type": "execute_result",
     "data": {
      "text/plain": "          date   popData2018  confirmed_dayli  dead_dayli  \\\n0   2019-12-31  7.498379e+09               27           0   \n1   2020-01-01  7.498379e+09                0           0   \n2   2020-01-02  7.498379e+09             2120          46   \n3   2020-01-03  7.498379e+09             1821          58   \n4   2020-01-04  7.498379e+09            73512        4614   \n..         ...           ...              ...         ...   \n334 2020-11-29  7.498379e+09                0           0   \n335 2020-11-30  7.498379e+09                0           0   \n336 2020-12-01  7.498379e+09                0           0   \n337 2020-12-02  7.498379e+09             2072          97   \n338 2020-12-03  7.498379e+09             6887         326   \n\n    countriesAndTerritories  \n0                     World  \n1                     World  \n2                     World  \n3                     World  \n4                     World  \n..                      ...  \n334                   World  \n335                   World  \n336                   World  \n337                   World  \n338                   World  \n\n[339 rows x 5 columns]",
      "text/html": "<div>\n<style scoped>\n    .dataframe tbody tr th:only-of-type {\n        vertical-align: middle;\n    }\n\n    .dataframe tbody tr th {\n        vertical-align: top;\n    }\n\n    .dataframe thead th {\n        text-align: right;\n    }\n</style>\n<table border=\"1\" class=\"dataframe\">\n  <thead>\n    <tr style=\"text-align: right;\">\n      <th></th>\n      <th>date</th>\n      <th>popData2018</th>\n      <th>confirmed_dayli</th>\n      <th>dead_dayli</th>\n      <th>countriesAndTerritories</th>\n    </tr>\n  </thead>\n  <tbody>\n    <tr>\n      <th>0</th>\n      <td>2019-12-31</td>\n      <td>7.498379e+09</td>\n      <td>27</td>\n      <td>0</td>\n      <td>World</td>\n    </tr>\n    <tr>\n      <th>1</th>\n      <td>2020-01-01</td>\n      <td>7.498379e+09</td>\n      <td>0</td>\n      <td>0</td>\n      <td>World</td>\n    </tr>\n    <tr>\n      <th>2</th>\n      <td>2020-01-02</td>\n      <td>7.498379e+09</td>\n      <td>2120</td>\n      <td>46</td>\n      <td>World</td>\n    </tr>\n    <tr>\n      <th>3</th>\n      <td>2020-01-03</td>\n      <td>7.498379e+09</td>\n      <td>1821</td>\n      <td>58</td>\n      <td>World</td>\n    </tr>\n    <tr>\n      <th>4</th>\n      <td>2020-01-04</td>\n      <td>7.498379e+09</td>\n      <td>73512</td>\n      <td>4614</td>\n      <td>World</td>\n    </tr>\n    <tr>\n      <th>...</th>\n      <td>...</td>\n      <td>...</td>\n      <td>...</td>\n      <td>...</td>\n      <td>...</td>\n    </tr>\n    <tr>\n      <th>334</th>\n      <td>2020-11-29</td>\n      <td>7.498379e+09</td>\n      <td>0</td>\n      <td>0</td>\n      <td>World</td>\n    </tr>\n    <tr>\n      <th>335</th>\n      <td>2020-11-30</td>\n      <td>7.498379e+09</td>\n      <td>0</td>\n      <td>0</td>\n      <td>World</td>\n    </tr>\n    <tr>\n      <th>336</th>\n      <td>2020-12-01</td>\n      <td>7.498379e+09</td>\n      <td>0</td>\n      <td>0</td>\n      <td>World</td>\n    </tr>\n    <tr>\n      <th>337</th>\n      <td>2020-12-02</td>\n      <td>7.498379e+09</td>\n      <td>2072</td>\n      <td>97</td>\n      <td>World</td>\n    </tr>\n    <tr>\n      <th>338</th>\n      <td>2020-12-03</td>\n      <td>7.498379e+09</td>\n      <td>6887</td>\n      <td>326</td>\n      <td>World</td>\n    </tr>\n  </tbody>\n</table>\n<p>339 rows × 5 columns</p>\n</div>"
     },
     "metadata": {},
     "execution_count": 54
    }
   ],
   "source": [
    "df_world = (\n",
    "    df_rn.set_index('date')\n",
    "    .resample('d')\n",
    "    .sum()\n",
    "    .reset_index()\n",
    "    .sort_values('date')\n",
    "    .assign(countriesAndTerritories='World')\n",
    ")\n",
    "df_world = df_world.assign(popData2018=df_world.popData2018.max())\n",
    "df_world"
   ]
  },
  {
   "cell_type": "code",
   "execution_count": 32,
   "metadata": {},
   "outputs": [
    {
     "output_type": "execute_result",
     "data": {
      "text/plain": "        popData2018  confirmed_dayli   dead_dayli\ncount  9.212000e+03       678.000000   678.000000\nmean   3.390239e+08      3465.050147   189.970501\nstd    1.413685e+09     13127.199554   802.707703\nmin    1.000000e+03         0.000000     0.000000\n25%    4.089400e+06         0.000000     0.000000\n50%    1.072767e+07         0.000000     0.000000\n75%    5.163526e+07         0.750000     0.000000\nmax    7.498379e+09     92598.000000  6627.000000",
      "text/html": "<div>\n<style scoped>\n    .dataframe tbody tr th:only-of-type {\n        vertical-align: middle;\n    }\n\n    .dataframe tbody tr th {\n        vertical-align: top;\n    }\n\n    .dataframe thead th {\n        text-align: right;\n    }\n</style>\n<table border=\"1\" class=\"dataframe\">\n  <thead>\n    <tr style=\"text-align: right;\">\n      <th></th>\n      <th>popData2018</th>\n      <th>confirmed_dayli</th>\n      <th>dead_dayli</th>\n    </tr>\n  </thead>\n  <tbody>\n    <tr>\n      <th>count</th>\n      <td>9.212000e+03</td>\n      <td>678.000000</td>\n      <td>678.000000</td>\n    </tr>\n    <tr>\n      <th>mean</th>\n      <td>3.390239e+08</td>\n      <td>3465.050147</td>\n      <td>189.970501</td>\n    </tr>\n    <tr>\n      <th>std</th>\n      <td>1.413685e+09</td>\n      <td>13127.199554</td>\n      <td>802.707703</td>\n    </tr>\n    <tr>\n      <th>min</th>\n      <td>1.000000e+03</td>\n      <td>0.000000</td>\n      <td>0.000000</td>\n    </tr>\n    <tr>\n      <th>25%</th>\n      <td>4.089400e+06</td>\n      <td>0.000000</td>\n      <td>0.000000</td>\n    </tr>\n    <tr>\n      <th>50%</th>\n      <td>1.072767e+07</td>\n      <td>0.000000</td>\n      <td>0.000000</td>\n    </tr>\n    <tr>\n      <th>75%</th>\n      <td>5.163526e+07</td>\n      <td>0.750000</td>\n      <td>0.000000</td>\n    </tr>\n    <tr>\n      <th>max</th>\n      <td>7.498379e+09</td>\n      <td>92598.000000</td>\n      <td>6627.000000</td>\n    </tr>\n  </tbody>\n</table>\n</div>"
     },
     "metadata": {},
     "execution_count": 32
    }
   ],
   "source": [
    "df_all = pd.concat((data, df_world))\n",
    "df_all = (\n",
    "    df_all\n",
    "    .assign(country=df_all.countriesAndTerritories)\n",
    "    .assign(confirmed_dayli=df_world.cases)\n",
    "    .assign(dead_dayli=df_world.deaths)\n",
    "    .drop(columns=[\"countriesAndTerritories\", \"cases\", \"deaths\"])\n",
    "    .sort_values([\"country\", \"date\"])\n",
    ")\n",
    "df_all.describe()"
   ]
  },
  {
   "cell_type": "code",
   "execution_count": 34,
   "metadata": {},
   "outputs": [
    {
     "output_type": "execute_result",
     "data": {
      "text/plain": "Empty DataFrame\nColumns: [geoId, countryterritoryCode, popData2018, date, country, confirmed_dayli, dead_dayli]\nIndex: []",
      "text/html": "<div>\n<style scoped>\n    .dataframe tbody tr th:only-of-type {\n        vertical-align: middle;\n    }\n\n    .dataframe tbody tr th {\n        vertical-align: top;\n    }\n\n    .dataframe thead th {\n        text-align: right;\n    }\n</style>\n<table border=\"1\" class=\"dataframe\">\n  <thead>\n    <tr style=\"text-align: right;\">\n      <th></th>\n      <th>geoId</th>\n      <th>countryterritoryCode</th>\n      <th>popData2018</th>\n      <th>date</th>\n      <th>country</th>\n      <th>confirmed_dayli</th>\n      <th>dead_dayli</th>\n    </tr>\n  </thead>\n  <tbody>\n  </tbody>\n</table>\n</div>"
     },
     "metadata": {},
     "execution_count": 34
    }
   ],
   "source": [
    "df_all[df_all.confirmed_dayli < 0]"
   ]
  },
  {
   "cell_type": "code",
   "execution_count": 35,
   "metadata": {},
   "outputs": [
    {
     "output_type": "execute_result",
     "data": {
      "text/plain": "     geoId countryterritoryCode  popData2018       date      country  \\\n86      AF                  AFG   37172386.0 2019-12-31  Afghanistan   \n85      AF                  AFG   37172386.0 2020-01-01  Afghanistan   \n54      AF                  AFG   37172386.0 2020-01-02  Afghanistan   \n25      AF                  AFG   37172386.0 2020-01-03  Afghanistan   \n4       AF                  AFG   37172386.0 2020-01-04  Afghanistan   \n...    ...                  ...          ...        ...          ...   \n8896    ZW                  ZWE   14439018.0 2020-03-29     Zimbabwe   \n8895    ZW                  ZWE   14439018.0 2020-03-30     Zimbabwe   \n8894    ZW                  ZWE   14439018.0 2020-03-31     Zimbabwe   \n8890    ZW                  ZWE   14439018.0 2020-04-04     Zimbabwe   \n8889    ZW                  ZWE   14439018.0 2020-05-04     Zimbabwe   \n\n      confirmed_dayli  dead_dayli  \n86            51204.0      2426.0  \n85            38927.0      2200.0  \n54             1008.0       104.0  \n25              453.0        15.0  \n4             73512.0      4614.0  \n...               ...         ...  \n8896              NaN         NaN  \n8895              NaN         NaN  \n8894              NaN         NaN  \n8890              NaN         NaN  \n8889              NaN         NaN  \n\n[9244 rows x 7 columns]",
      "text/html": "<div>\n<style scoped>\n    .dataframe tbody tr th:only-of-type {\n        vertical-align: middle;\n    }\n\n    .dataframe tbody tr th {\n        vertical-align: top;\n    }\n\n    .dataframe thead th {\n        text-align: right;\n    }\n</style>\n<table border=\"1\" class=\"dataframe\">\n  <thead>\n    <tr style=\"text-align: right;\">\n      <th></th>\n      <th>geoId</th>\n      <th>countryterritoryCode</th>\n      <th>popData2018</th>\n      <th>date</th>\n      <th>country</th>\n      <th>confirmed_dayli</th>\n      <th>dead_dayli</th>\n    </tr>\n  </thead>\n  <tbody>\n    <tr>\n      <th>86</th>\n      <td>AF</td>\n      <td>AFG</td>\n      <td>37172386.0</td>\n      <td>2019-12-31</td>\n      <td>Afghanistan</td>\n      <td>51204.0</td>\n      <td>2426.0</td>\n    </tr>\n    <tr>\n      <th>85</th>\n      <td>AF</td>\n      <td>AFG</td>\n      <td>37172386.0</td>\n      <td>2020-01-01</td>\n      <td>Afghanistan</td>\n      <td>38927.0</td>\n      <td>2200.0</td>\n    </tr>\n    <tr>\n      <th>54</th>\n      <td>AF</td>\n      <td>AFG</td>\n      <td>37172386.0</td>\n      <td>2020-01-02</td>\n      <td>Afghanistan</td>\n      <td>1008.0</td>\n      <td>104.0</td>\n    </tr>\n    <tr>\n      <th>25</th>\n      <td>AF</td>\n      <td>AFG</td>\n      <td>37172386.0</td>\n      <td>2020-01-03</td>\n      <td>Afghanistan</td>\n      <td>453.0</td>\n      <td>15.0</td>\n    </tr>\n    <tr>\n      <th>4</th>\n      <td>AF</td>\n      <td>AFG</td>\n      <td>37172386.0</td>\n      <td>2020-01-04</td>\n      <td>Afghanistan</td>\n      <td>73512.0</td>\n      <td>4614.0</td>\n    </tr>\n    <tr>\n      <th>...</th>\n      <td>...</td>\n      <td>...</td>\n      <td>...</td>\n      <td>...</td>\n      <td>...</td>\n      <td>...</td>\n      <td>...</td>\n    </tr>\n    <tr>\n      <th>8896</th>\n      <td>ZW</td>\n      <td>ZWE</td>\n      <td>14439018.0</td>\n      <td>2020-03-29</td>\n      <td>Zimbabwe</td>\n      <td>NaN</td>\n      <td>NaN</td>\n    </tr>\n    <tr>\n      <th>8895</th>\n      <td>ZW</td>\n      <td>ZWE</td>\n      <td>14439018.0</td>\n      <td>2020-03-30</td>\n      <td>Zimbabwe</td>\n      <td>NaN</td>\n      <td>NaN</td>\n    </tr>\n    <tr>\n      <th>8894</th>\n      <td>ZW</td>\n      <td>ZWE</td>\n      <td>14439018.0</td>\n      <td>2020-03-31</td>\n      <td>Zimbabwe</td>\n      <td>NaN</td>\n      <td>NaN</td>\n    </tr>\n    <tr>\n      <th>8890</th>\n      <td>ZW</td>\n      <td>ZWE</td>\n      <td>14439018.0</td>\n      <td>2020-04-04</td>\n      <td>Zimbabwe</td>\n      <td>NaN</td>\n      <td>NaN</td>\n    </tr>\n    <tr>\n      <th>8889</th>\n      <td>ZW</td>\n      <td>ZWE</td>\n      <td>14439018.0</td>\n      <td>2020-05-04</td>\n      <td>Zimbabwe</td>\n      <td>NaN</td>\n      <td>NaN</td>\n    </tr>\n  </tbody>\n</table>\n<p>9244 rows × 7 columns</p>\n</div>"
     },
     "metadata": {},
     "execution_count": 35
    }
   ],
   "source": [
    "df_all"
   ]
  },
  {
   "cell_type": "code",
   "execution_count": 36,
   "metadata": {},
   "outputs": [],
   "source": [
    "df_all['confirmed_total'] = (\n",
    "    df_all\n",
    "    .groupby([\"country\", \"date\"])['confirmed_dayli'].apply(lambda x: x.cumsum())\n",
    ")"
   ]
  },
  {
   "cell_type": "code",
   "execution_count": 37,
   "metadata": {},
   "outputs": [
    {
     "output_type": "execute_result",
     "data": {
      "text/plain": "     geoId countryterritoryCode  popData2018       date      country  \\\n86      AF                  AFG   37172386.0 2019-12-31  Afghanistan   \n85      AF                  AFG   37172386.0 2020-01-01  Afghanistan   \n54      AF                  AFG   37172386.0 2020-01-02  Afghanistan   \n25      AF                  AFG   37172386.0 2020-01-03  Afghanistan   \n4       AF                  AFG   37172386.0 2020-01-04  Afghanistan   \n...    ...                  ...          ...        ...          ...   \n8896    ZW                  ZWE   14439018.0 2020-03-29     Zimbabwe   \n8895    ZW                  ZWE   14439018.0 2020-03-30     Zimbabwe   \n8894    ZW                  ZWE   14439018.0 2020-03-31     Zimbabwe   \n8890    ZW                  ZWE   14439018.0 2020-04-04     Zimbabwe   \n8889    ZW                  ZWE   14439018.0 2020-05-04     Zimbabwe   \n\n      confirmed_dayli  dead_dayli  confirmed_total  \n86            51204.0      2426.0          51204.0  \n85            38927.0      2200.0          38927.0  \n54             1008.0       104.0           1008.0  \n25              453.0        15.0            453.0  \n4             73512.0      4614.0          73512.0  \n...               ...         ...              ...  \n8896              NaN         NaN              NaN  \n8895              NaN         NaN              NaN  \n8894              NaN         NaN              NaN  \n8890              NaN         NaN              NaN  \n8889              NaN         NaN              NaN  \n\n[9244 rows x 8 columns]",
      "text/html": "<div>\n<style scoped>\n    .dataframe tbody tr th:only-of-type {\n        vertical-align: middle;\n    }\n\n    .dataframe tbody tr th {\n        vertical-align: top;\n    }\n\n    .dataframe thead th {\n        text-align: right;\n    }\n</style>\n<table border=\"1\" class=\"dataframe\">\n  <thead>\n    <tr style=\"text-align: right;\">\n      <th></th>\n      <th>geoId</th>\n      <th>countryterritoryCode</th>\n      <th>popData2018</th>\n      <th>date</th>\n      <th>country</th>\n      <th>confirmed_dayli</th>\n      <th>dead_dayli</th>\n      <th>confirmed_total</th>\n    </tr>\n  </thead>\n  <tbody>\n    <tr>\n      <th>86</th>\n      <td>AF</td>\n      <td>AFG</td>\n      <td>37172386.0</td>\n      <td>2019-12-31</td>\n      <td>Afghanistan</td>\n      <td>51204.0</td>\n      <td>2426.0</td>\n      <td>51204.0</td>\n    </tr>\n    <tr>\n      <th>85</th>\n      <td>AF</td>\n      <td>AFG</td>\n      <td>37172386.0</td>\n      <td>2020-01-01</td>\n      <td>Afghanistan</td>\n      <td>38927.0</td>\n      <td>2200.0</td>\n      <td>38927.0</td>\n    </tr>\n    <tr>\n      <th>54</th>\n      <td>AF</td>\n      <td>AFG</td>\n      <td>37172386.0</td>\n      <td>2020-01-02</td>\n      <td>Afghanistan</td>\n      <td>1008.0</td>\n      <td>104.0</td>\n      <td>1008.0</td>\n    </tr>\n    <tr>\n      <th>25</th>\n      <td>AF</td>\n      <td>AFG</td>\n      <td>37172386.0</td>\n      <td>2020-01-03</td>\n      <td>Afghanistan</td>\n      <td>453.0</td>\n      <td>15.0</td>\n      <td>453.0</td>\n    </tr>\n    <tr>\n      <th>4</th>\n      <td>AF</td>\n      <td>AFG</td>\n      <td>37172386.0</td>\n      <td>2020-01-04</td>\n      <td>Afghanistan</td>\n      <td>73512.0</td>\n      <td>4614.0</td>\n      <td>73512.0</td>\n    </tr>\n    <tr>\n      <th>...</th>\n      <td>...</td>\n      <td>...</td>\n      <td>...</td>\n      <td>...</td>\n      <td>...</td>\n      <td>...</td>\n      <td>...</td>\n      <td>...</td>\n    </tr>\n    <tr>\n      <th>8896</th>\n      <td>ZW</td>\n      <td>ZWE</td>\n      <td>14439018.0</td>\n      <td>2020-03-29</td>\n      <td>Zimbabwe</td>\n      <td>NaN</td>\n      <td>NaN</td>\n      <td>NaN</td>\n    </tr>\n    <tr>\n      <th>8895</th>\n      <td>ZW</td>\n      <td>ZWE</td>\n      <td>14439018.0</td>\n      <td>2020-03-30</td>\n      <td>Zimbabwe</td>\n      <td>NaN</td>\n      <td>NaN</td>\n      <td>NaN</td>\n    </tr>\n    <tr>\n      <th>8894</th>\n      <td>ZW</td>\n      <td>ZWE</td>\n      <td>14439018.0</td>\n      <td>2020-03-31</td>\n      <td>Zimbabwe</td>\n      <td>NaN</td>\n      <td>NaN</td>\n      <td>NaN</td>\n    </tr>\n    <tr>\n      <th>8890</th>\n      <td>ZW</td>\n      <td>ZWE</td>\n      <td>14439018.0</td>\n      <td>2020-04-04</td>\n      <td>Zimbabwe</td>\n      <td>NaN</td>\n      <td>NaN</td>\n      <td>NaN</td>\n    </tr>\n    <tr>\n      <th>8889</th>\n      <td>ZW</td>\n      <td>ZWE</td>\n      <td>14439018.0</td>\n      <td>2020-05-04</td>\n      <td>Zimbabwe</td>\n      <td>NaN</td>\n      <td>NaN</td>\n      <td>NaN</td>\n    </tr>\n  </tbody>\n</table>\n<p>9244 rows × 8 columns</p>\n</div>"
     },
     "metadata": {},
     "execution_count": 37
    }
   ],
   "source": [
    "df_all"
   ]
  },
  {
   "cell_type": "code",
   "execution_count": null,
   "metadata": {},
   "outputs": [],
   "source": []
  }
 ]
}