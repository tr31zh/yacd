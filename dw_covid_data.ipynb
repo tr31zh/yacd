{
 "nbformat": 4,
 "nbformat_minor": 2,
 "metadata": {
  "language_info": {
   "name": "python",
   "codemirror_mode": {
    "name": "ipython",
    "version": 3
   },
   "version": "3.7.4-final"
  },
  "orig_nbformat": 2,
  "file_extension": ".py",
  "mimetype": "text/x-python",
  "name": "python",
  "npconvert_exporter": "python",
  "pygments_lexer": "ipython3",
  "version": 3,
  "kernelspec": {
   "name": "python37464bitenvvenv65e5276e36314bf29ff3049602b82f3c",
   "display_name": "Python 3.7.4 64-bit ('env': venv)"
  }
 },
 "cells": [
  {
   "cell_type": "markdown",
   "metadata": {},
   "source": [
    "# Data wrangling for covid data"
   ]
  },
  {
   "cell_type": "markdown",
   "metadata": {},
   "source": [
    "## Import libraries"
   ]
  },
  {
   "cell_type": "code",
   "execution_count": 31,
   "metadata": {},
   "outputs": [],
   "source": [
    "import pandas as pd\n",
    "import numpy as np"
   ]
  },
  {
   "cell_type": "markdown",
   "metadata": {},
   "source": [
    "## Load data from github"
   ]
  },
  {
   "cell_type": "code",
   "execution_count": 32,
   "metadata": {},
   "outputs": [],
   "source": [
    "data = pd.read_csv(\n",
    "    \"https://raw.githubusercontent.com/coviddata/coviddata/master/data/sources/jhu_csse/standardized/standardized.csv\"\n",
    ")\n",
    "data.date = pd.to_datetime(data.date)"
   ]
  },
  {
   "cell_type": "code",
   "execution_count": 33,
   "metadata": {},
   "outputs": [
    {
     "output_type": "execute_result",
     "data": {
      "text/plain": "        date         country     region place  cases  deaths  recoveries\n0 2020-01-22  Mainland China      Anhui   NaN      1       0           0\n1 2020-01-22  Mainland China    Beijing   NaN     14       0           0\n2 2020-01-22  Mainland China  Chongqing   NaN      6       0           0\n3 2020-01-22  Mainland China     Fujian   NaN      1       0           0\n4 2020-01-22  Mainland China      Gansu   NaN      0       0           0",
      "text/html": "<div>\n<style scoped>\n    .dataframe tbody tr th:only-of-type {\n        vertical-align: middle;\n    }\n\n    .dataframe tbody tr th {\n        vertical-align: top;\n    }\n\n    .dataframe thead th {\n        text-align: right;\n    }\n</style>\n<table border=\"1\" class=\"dataframe\">\n  <thead>\n    <tr style=\"text-align: right;\">\n      <th></th>\n      <th>date</th>\n      <th>country</th>\n      <th>region</th>\n      <th>place</th>\n      <th>cases</th>\n      <th>deaths</th>\n      <th>recoveries</th>\n    </tr>\n  </thead>\n  <tbody>\n    <tr>\n      <th>0</th>\n      <td>2020-01-22</td>\n      <td>Mainland China</td>\n      <td>Anhui</td>\n      <td>NaN</td>\n      <td>1</td>\n      <td>0</td>\n      <td>0</td>\n    </tr>\n    <tr>\n      <th>1</th>\n      <td>2020-01-22</td>\n      <td>Mainland China</td>\n      <td>Beijing</td>\n      <td>NaN</td>\n      <td>14</td>\n      <td>0</td>\n      <td>0</td>\n    </tr>\n    <tr>\n      <th>2</th>\n      <td>2020-01-22</td>\n      <td>Mainland China</td>\n      <td>Chongqing</td>\n      <td>NaN</td>\n      <td>6</td>\n      <td>0</td>\n      <td>0</td>\n    </tr>\n    <tr>\n      <th>3</th>\n      <td>2020-01-22</td>\n      <td>Mainland China</td>\n      <td>Fujian</td>\n      <td>NaN</td>\n      <td>1</td>\n      <td>0</td>\n      <td>0</td>\n    </tr>\n    <tr>\n      <th>4</th>\n      <td>2020-01-22</td>\n      <td>Mainland China</td>\n      <td>Gansu</td>\n      <td>NaN</td>\n      <td>0</td>\n      <td>0</td>\n      <td>0</td>\n    </tr>\n  </tbody>\n</table>\n</div>"
     },
     "metadata": {},
     "execution_count": 33
    }
   ],
   "source": [
    "data.head()"
   ]
  },
  {
   "cell_type": "code",
   "execution_count": 34,
   "metadata": {},
   "outputs": [
    {
     "output_type": "execute_result",
     "data": {
      "text/plain": "               cases        deaths    recoveries\ncount   48552.000000  48552.000000  48552.000000\nmean      281.074930     12.204214     76.589656\nstd      3396.702516    240.281361   1544.602780\nmin         0.000000      0.000000      0.000000\n25%         0.000000      0.000000      0.000000\n50%         2.000000      0.000000      0.000000\n75%        17.000000      0.000000      0.000000\nmax    119827.000000  14681.000000  63612.000000",
      "text/html": "<div>\n<style scoped>\n    .dataframe tbody tr th:only-of-type {\n        vertical-align: middle;\n    }\n\n    .dataframe tbody tr th {\n        vertical-align: top;\n    }\n\n    .dataframe thead th {\n        text-align: right;\n    }\n</style>\n<table border=\"1\" class=\"dataframe\">\n  <thead>\n    <tr style=\"text-align: right;\">\n      <th></th>\n      <th>cases</th>\n      <th>deaths</th>\n      <th>recoveries</th>\n    </tr>\n  </thead>\n  <tbody>\n    <tr>\n      <th>count</th>\n      <td>48552.000000</td>\n      <td>48552.000000</td>\n      <td>48552.000000</td>\n    </tr>\n    <tr>\n      <th>mean</th>\n      <td>281.074930</td>\n      <td>12.204214</td>\n      <td>76.589656</td>\n    </tr>\n    <tr>\n      <th>std</th>\n      <td>3396.702516</td>\n      <td>240.281361</td>\n      <td>1544.602780</td>\n    </tr>\n    <tr>\n      <th>min</th>\n      <td>0.000000</td>\n      <td>0.000000</td>\n      <td>0.000000</td>\n    </tr>\n    <tr>\n      <th>25%</th>\n      <td>0.000000</td>\n      <td>0.000000</td>\n      <td>0.000000</td>\n    </tr>\n    <tr>\n      <th>50%</th>\n      <td>2.000000</td>\n      <td>0.000000</td>\n      <td>0.000000</td>\n    </tr>\n    <tr>\n      <th>75%</th>\n      <td>17.000000</td>\n      <td>0.000000</td>\n      <td>0.000000</td>\n    </tr>\n    <tr>\n      <th>max</th>\n      <td>119827.000000</td>\n      <td>14681.000000</td>\n      <td>63612.000000</td>\n    </tr>\n  </tbody>\n</table>\n</div>"
     },
     "metadata": {},
     "execution_count": 34
    }
   ],
   "source": [
    "data.describe()"
   ]
  },
  {
   "cell_type": "code",
   "execution_count": 35,
   "metadata": {},
   "outputs": [
    {
     "output_type": "execute_result",
     "data": {
      "text/plain": "         date      cases   deaths  recoveries country  region  place\n0  2020-01-22        NaN      NaN         NaN   World     NaN    NaN\n1  2020-01-23        NaN      NaN         NaN   World     NaN    NaN\n2  2020-01-24        NaN      NaN         NaN   World     NaN    NaN\n3  2020-01-25        NaN      NaN         NaN   World     NaN    NaN\n4  2020-01-26        NaN      NaN         NaN   World     NaN    NaN\n..        ...        ...      ...         ...     ...     ...    ...\n68 2020-03-30   782365.0  37582.0    164566.0   World     NaN    NaN\n69 2020-03-31   857487.0  42107.0    178034.0   World     NaN    NaN\n70 2020-04-01   932605.0  46809.0    193177.0   World     NaN    NaN\n71 2020-04-02  1013157.0  52983.0    210263.0   World     NaN    NaN\n72 2020-04-03  1095917.0  58787.0    225796.0   World     NaN    NaN\n\n[73 rows x 7 columns]",
      "text/html": "<div>\n<style scoped>\n    .dataframe tbody tr th:only-of-type {\n        vertical-align: middle;\n    }\n\n    .dataframe tbody tr th {\n        vertical-align: top;\n    }\n\n    .dataframe thead th {\n        text-align: right;\n    }\n</style>\n<table border=\"1\" class=\"dataframe\">\n  <thead>\n    <tr style=\"text-align: right;\">\n      <th></th>\n      <th>date</th>\n      <th>cases</th>\n      <th>deaths</th>\n      <th>recoveries</th>\n      <th>country</th>\n      <th>region</th>\n      <th>place</th>\n    </tr>\n  </thead>\n  <tbody>\n    <tr>\n      <th>0</th>\n      <td>2020-01-22</td>\n      <td>NaN</td>\n      <td>NaN</td>\n      <td>NaN</td>\n      <td>World</td>\n      <td>NaN</td>\n      <td>NaN</td>\n    </tr>\n    <tr>\n      <th>1</th>\n      <td>2020-01-23</td>\n      <td>NaN</td>\n      <td>NaN</td>\n      <td>NaN</td>\n      <td>World</td>\n      <td>NaN</td>\n      <td>NaN</td>\n    </tr>\n    <tr>\n      <th>2</th>\n      <td>2020-01-24</td>\n      <td>NaN</td>\n      <td>NaN</td>\n      <td>NaN</td>\n      <td>World</td>\n      <td>NaN</td>\n      <td>NaN</td>\n    </tr>\n    <tr>\n      <th>3</th>\n      <td>2020-01-25</td>\n      <td>NaN</td>\n      <td>NaN</td>\n      <td>NaN</td>\n      <td>World</td>\n      <td>NaN</td>\n      <td>NaN</td>\n    </tr>\n    <tr>\n      <th>4</th>\n      <td>2020-01-26</td>\n      <td>NaN</td>\n      <td>NaN</td>\n      <td>NaN</td>\n      <td>World</td>\n      <td>NaN</td>\n      <td>NaN</td>\n    </tr>\n    <tr>\n      <th>...</th>\n      <td>...</td>\n      <td>...</td>\n      <td>...</td>\n      <td>...</td>\n      <td>...</td>\n      <td>...</td>\n      <td>...</td>\n    </tr>\n    <tr>\n      <th>68</th>\n      <td>2020-03-30</td>\n      <td>782365.0</td>\n      <td>37582.0</td>\n      <td>164566.0</td>\n      <td>World</td>\n      <td>NaN</td>\n      <td>NaN</td>\n    </tr>\n    <tr>\n      <th>69</th>\n      <td>2020-03-31</td>\n      <td>857487.0</td>\n      <td>42107.0</td>\n      <td>178034.0</td>\n      <td>World</td>\n      <td>NaN</td>\n      <td>NaN</td>\n    </tr>\n    <tr>\n      <th>70</th>\n      <td>2020-04-01</td>\n      <td>932605.0</td>\n      <td>46809.0</td>\n      <td>193177.0</td>\n      <td>World</td>\n      <td>NaN</td>\n      <td>NaN</td>\n    </tr>\n    <tr>\n      <th>71</th>\n      <td>2020-04-02</td>\n      <td>1013157.0</td>\n      <td>52983.0</td>\n      <td>210263.0</td>\n      <td>World</td>\n      <td>NaN</td>\n      <td>NaN</td>\n    </tr>\n    <tr>\n      <th>72</th>\n      <td>2020-04-03</td>\n      <td>1095917.0</td>\n      <td>58787.0</td>\n      <td>225796.0</td>\n      <td>World</td>\n      <td>NaN</td>\n      <td>NaN</td>\n    </tr>\n  </tbody>\n</table>\n<p>73 rows × 7 columns</p>\n</div>"
     },
     "metadata": {},
     "execution_count": 35
    }
   ],
   "source": [
    "df_world = data.drop(\n",
    "    columns=['country', 'region', 'place']\n",
    ").set_index(\n",
    "    'date'\n",
    ").resample(\n",
    "    'd'\n",
    ").sum(\n",
    "    min_count=180\n",
    ").reset_index(\n",
    "\n",
    ").assign(\n",
    "    country='World',\n",
    "    region=np.nan,\n",
    "    place=np.nan    \n",
    ")\n",
    "df_world"
   ]
  },
  {
   "cell_type": "code",
   "execution_count": 36,
   "metadata": {},
   "outputs": [
    {
     "output_type": "execute_result",
     "data": {
      "text/plain": "              cases        deaths     recoveries\ncount  4.858100e+04  48581.000000   48581.000000\nmean   5.170431e+02     23.084086     140.260781\nstd    1.262515e+04    640.253240    3242.042092\nmin    0.000000e+00      0.000000       0.000000\n25%    0.000000e+00      0.000000       0.000000\n50%    2.000000e+00      0.000000       0.000000\n75%    1.700000e+01      0.000000       0.000000\nmax    1.095917e+06  58787.000000  225796.000000",
      "text/html": "<div>\n<style scoped>\n    .dataframe tbody tr th:only-of-type {\n        vertical-align: middle;\n    }\n\n    .dataframe tbody tr th {\n        vertical-align: top;\n    }\n\n    .dataframe thead th {\n        text-align: right;\n    }\n</style>\n<table border=\"1\" class=\"dataframe\">\n  <thead>\n    <tr style=\"text-align: right;\">\n      <th></th>\n      <th>cases</th>\n      <th>deaths</th>\n      <th>recoveries</th>\n    </tr>\n  </thead>\n  <tbody>\n    <tr>\n      <th>count</th>\n      <td>4.858100e+04</td>\n      <td>48581.000000</td>\n      <td>48581.000000</td>\n    </tr>\n    <tr>\n      <th>mean</th>\n      <td>5.170431e+02</td>\n      <td>23.084086</td>\n      <td>140.260781</td>\n    </tr>\n    <tr>\n      <th>std</th>\n      <td>1.262515e+04</td>\n      <td>640.253240</td>\n      <td>3242.042092</td>\n    </tr>\n    <tr>\n      <th>min</th>\n      <td>0.000000e+00</td>\n      <td>0.000000</td>\n      <td>0.000000</td>\n    </tr>\n    <tr>\n      <th>25%</th>\n      <td>0.000000e+00</td>\n      <td>0.000000</td>\n      <td>0.000000</td>\n    </tr>\n    <tr>\n      <th>50%</th>\n      <td>2.000000e+00</td>\n      <td>0.000000</td>\n      <td>0.000000</td>\n    </tr>\n    <tr>\n      <th>75%</th>\n      <td>1.700000e+01</td>\n      <td>0.000000</td>\n      <td>0.000000</td>\n    </tr>\n    <tr>\n      <th>max</th>\n      <td>1.095917e+06</td>\n      <td>58787.000000</td>\n      <td>225796.000000</td>\n    </tr>\n  </tbody>\n</table>\n</div>"
     },
     "metadata": {},
     "execution_count": 36
    }
   ],
   "source": [
    "df_world = pd.concat((data, df_world)).sort_values(['country', 'date'])\n",
    "df_world.describe()"
   ]
  },
  {
   "cell_type": "code",
   "execution_count": 41,
   "metadata": {},
   "outputs": [
    {
     "output_type": "execute_result",
     "data": {
      "text/plain": "            date         country     region    place  confirmed_total  \\\n8777  2020-03-22              US    Alabama  Autauga              0.0   \n11144 2020-03-23              US    Alabama  Autauga              0.0   \n14559 2020-03-24              US    Alabama  Autauga              1.0   \n17976 2020-03-25              US    Alabama  Autauga              4.0   \n21396 2020-03-26              US    Alabama  Autauga              6.0   \n...          ...             ...        ...      ...              ...   \n12    2020-01-22       Hong Kong  Hong Kong      NaN              0.0   \n35    2020-01-22           Japan        NaN      NaN              2.0   \n20    2020-01-22           Macau      Macau      NaN              1.0   \n0     2020-01-22  Mainland China      Anhui      NaN              1.0   \n1     2020-01-22  Mainland China    Beijing      NaN             14.0   \n\n       recovered_total  dead_total             geo_key  \n8777               0.0         0.0  US_Alabama_Autauga  \n11144              0.0         0.0  US_Alabama_Autauga  \n14559              0.0         0.0  US_Alabama_Autauga  \n17976              0.0         0.0  US_Alabama_Autauga  \n21396              0.0         0.0  US_Alabama_Autauga  \n...                ...         ...                 ...  \n12                 0.0         0.0                 NaN  \n35                 0.0         0.0                 NaN  \n20                 0.0         0.0                 NaN  \n0                  0.0         0.0                 NaN  \n1                  0.0         0.0                 NaN  \n\n[15954 rows x 8 columns]",
      "text/html": "<div>\n<style scoped>\n    .dataframe tbody tr th:only-of-type {\n        vertical-align: middle;\n    }\n\n    .dataframe tbody tr th {\n        vertical-align: top;\n    }\n\n    .dataframe thead th {\n        text-align: right;\n    }\n</style>\n<table border=\"1\" class=\"dataframe\">\n  <thead>\n    <tr style=\"text-align: right;\">\n      <th></th>\n      <th>date</th>\n      <th>country</th>\n      <th>region</th>\n      <th>place</th>\n      <th>confirmed_total</th>\n      <th>recovered_total</th>\n      <th>dead_total</th>\n      <th>geo_key</th>\n    </tr>\n  </thead>\n  <tbody>\n    <tr>\n      <th>8777</th>\n      <td>2020-03-22</td>\n      <td>US</td>\n      <td>Alabama</td>\n      <td>Autauga</td>\n      <td>0.0</td>\n      <td>0.0</td>\n      <td>0.0</td>\n      <td>US_Alabama_Autauga</td>\n    </tr>\n    <tr>\n      <th>11144</th>\n      <td>2020-03-23</td>\n      <td>US</td>\n      <td>Alabama</td>\n      <td>Autauga</td>\n      <td>0.0</td>\n      <td>0.0</td>\n      <td>0.0</td>\n      <td>US_Alabama_Autauga</td>\n    </tr>\n    <tr>\n      <th>14559</th>\n      <td>2020-03-24</td>\n      <td>US</td>\n      <td>Alabama</td>\n      <td>Autauga</td>\n      <td>1.0</td>\n      <td>0.0</td>\n      <td>0.0</td>\n      <td>US_Alabama_Autauga</td>\n    </tr>\n    <tr>\n      <th>17976</th>\n      <td>2020-03-25</td>\n      <td>US</td>\n      <td>Alabama</td>\n      <td>Autauga</td>\n      <td>4.0</td>\n      <td>0.0</td>\n      <td>0.0</td>\n      <td>US_Alabama_Autauga</td>\n    </tr>\n    <tr>\n      <th>21396</th>\n      <td>2020-03-26</td>\n      <td>US</td>\n      <td>Alabama</td>\n      <td>Autauga</td>\n      <td>6.0</td>\n      <td>0.0</td>\n      <td>0.0</td>\n      <td>US_Alabama_Autauga</td>\n    </tr>\n    <tr>\n      <th>...</th>\n      <td>...</td>\n      <td>...</td>\n      <td>...</td>\n      <td>...</td>\n      <td>...</td>\n      <td>...</td>\n      <td>...</td>\n      <td>...</td>\n    </tr>\n    <tr>\n      <th>12</th>\n      <td>2020-01-22</td>\n      <td>Hong Kong</td>\n      <td>Hong Kong</td>\n      <td>NaN</td>\n      <td>0.0</td>\n      <td>0.0</td>\n      <td>0.0</td>\n      <td>NaN</td>\n    </tr>\n    <tr>\n      <th>35</th>\n      <td>2020-01-22</td>\n      <td>Japan</td>\n      <td>NaN</td>\n      <td>NaN</td>\n      <td>2.0</td>\n      <td>0.0</td>\n      <td>0.0</td>\n      <td>NaN</td>\n    </tr>\n    <tr>\n      <th>20</th>\n      <td>2020-01-22</td>\n      <td>Macau</td>\n      <td>Macau</td>\n      <td>NaN</td>\n      <td>1.0</td>\n      <td>0.0</td>\n      <td>0.0</td>\n      <td>NaN</td>\n    </tr>\n    <tr>\n      <th>0</th>\n      <td>2020-01-22</td>\n      <td>Mainland China</td>\n      <td>Anhui</td>\n      <td>NaN</td>\n      <td>1.0</td>\n      <td>0.0</td>\n      <td>0.0</td>\n      <td>NaN</td>\n    </tr>\n    <tr>\n      <th>1</th>\n      <td>2020-01-22</td>\n      <td>Mainland China</td>\n      <td>Beijing</td>\n      <td>NaN</td>\n      <td>14.0</td>\n      <td>0.0</td>\n      <td>0.0</td>\n      <td>NaN</td>\n    </tr>\n  </tbody>\n</table>\n<p>15954 rows × 8 columns</p>\n</div>"
     },
     "metadata": {},
     "execution_count": 41
    }
   ],
   "source": [
    "df_grouped = (\n",
    "    df_world    \n",
    "    .assign(confirmed_total=df_world.cases)\n",
    "    .assign(recovered_total=df_world.recoveries)\n",
    "    .assign(dead_total=df_world.deaths)\n",
    "    .drop(columns=[\"cases\", \"recoveries\", \"deaths\"])\n",
    "    .assign(\n",
    "        geo_key=df_world.country.str.cat(\n",
    "            df_world.region.str.cat(\n",
    "                df_world.place, \n",
    "                sep='_',\n",
    "                na_rep='na'\n",
    "            ), \n",
    "            sep='_',\n",
    "            na_rep='na'\n",
    "        )\n",
    "    )\n",
    "    .sort_values([\"geo_key\", \"date\"])\n",
    "    .groupby([\"geo_key\"])\n",
    ")\n",
    "df_grouped.head()"
   ]
  },
  {
   "cell_type": "code",
   "execution_count": null,
   "metadata": {},
   "outputs": [],
   "source": [
    "df_new_column = (\n",
    "    df_world    \n",
    "    .assign(confirmed_total=df_world.cases)\n",
    "    .assign(recovered_total=df_world.recoveries)\n",
    "    .assign(dead_total=df_world.deaths)\n",
    "    .sort_values([\"country\", \"region\", \"place\", \"date\"])\n",
    "    .groupby([\"country\", \"region\", \"place\", \"date\"])\n",
    "    .assign(\n",
    "        confirmed_dayli=df_no_region.cases.subtract(\n",
    "            df_no_region.confirmed.shift(1), fill_value=0\n",
    "        ).clip(0)\n",
    "    )\n",
    "    .assign(\n",
    "        recovered_dayli=df_no_region.recoveries.subtract(\n",
    "            df_no_region.recovered.shift(1), fill_value=0\n",
    "        ).clip(0)\n",
    "    )\n",
    "    .assign(\n",
    "        dead_dayli=df_no_region.deaths.subtract(\n",
    "            df_no_region.dead.shift(1), fill_value=0\n",
    "        ).clip(0)\n",
    "    )\n",
    "    .reset_index()\n",
    "    .drop(columns=[\"cases\", \"recoveries\", \"deaths\"])\n",
    ")\n",
    "df_new_column.describe()"
   ]
  }
 ]
}